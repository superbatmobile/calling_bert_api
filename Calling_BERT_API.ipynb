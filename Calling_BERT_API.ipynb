{
  "nbformat": 4,
  "nbformat_minor": 0,
  "metadata": {
    "colab": {
      "name": "Calling_BERT_API.ipynb",
      "provenance": []
    },
    "kernelspec": {
      "name": "python3",
      "display_name": "Python 3"
    }
  },
  "cells": [
    {
      "cell_type": "code",
      "metadata": {
        "id": "shxbKCuYx44k",
        "outputId": "0ccbf863-7753-498b-d874-ac09672a9ec5",
        "colab": {
          "base_uri": "https://localhost:8080/",
          "height": 119
        }
      },
      "source": [
        "import json\n",
        "import requests\n",
        "%time\n",
        "url=\"http://54.199.241.207:5000/get_sentiment\"\n",
        "review={'Review': 'this is a good movie'}\n",
        "review =json.dumps(review)\n",
        "\n",
        "x=requests.post(url,review)\n",
        "print(x.text)"
      ],
      "execution_count": 6,
      "outputs": [
        {
          "output_type": "stream",
          "text": [
            "CPU times: user 2 µs, sys: 1 µs, total: 3 µs\n",
            "Wall time: 7.39 µs\n",
            "{\n",
            "  \"result\": \"pos\"\n",
            "}\n",
            "\n"
          ],
          "name": "stdout"
        }
      ]
    },
    {
      "cell_type": "code",
      "metadata": {
        "id": "5TXZq_w-05gl",
        "outputId": "96cd75b3-3e2f-4eca-b55a-6204d3069904",
        "colab": {
          "base_uri": "https://localhost:8080/",
          "height": 119
        }
      },
      "source": [
        "%time\n",
        "review={'Review': 'this movie makes me discomfortable'}\n",
        "review =json.dumps(review)\n",
        "\n",
        "x=requests.post(url,review)\n",
        "print(x.text)"
      ],
      "execution_count": 8,
      "outputs": [
        {
          "output_type": "stream",
          "text": [
            "CPU times: user 3 µs, sys: 0 ns, total: 3 µs\n",
            "Wall time: 6.68 µs\n",
            "{\n",
            "  \"result\": \"neg\"\n",
            "}\n",
            "\n"
          ],
          "name": "stdout"
        }
      ]
    },
    {
      "cell_type": "code",
      "metadata": {
        "id": "LoOwK_zX1Vnc"
      },
      "source": [
        ""
      ],
      "execution_count": null,
      "outputs": []
    }
  ]
}